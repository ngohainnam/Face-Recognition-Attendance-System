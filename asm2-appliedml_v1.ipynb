{
 "cells": [
  {
   "cell_type": "markdown",
   "metadata": {},
   "source": [
    "1. Setup and Imports"
   ]
  },
  {
   "cell_type": "code",
   "execution_count": 1,
   "metadata": {
    "execution": {
     "iopub.execute_input": "2025-05-24T11:06:38.957468Z",
     "iopub.status.busy": "2025-05-24T11:06:38.957177Z",
     "iopub.status.idle": "2025-05-24T11:06:52.369223Z",
     "shell.execute_reply": "2025-05-24T11:06:52.368563Z",
     "shell.execute_reply.started": "2025-05-24T11:06:38.957449Z"
    },
    "trusted": true
   },
   "outputs": [
    {
     "name": "stdout",
     "output_type": "stream",
     "text": [
      "Using device: cuda\n"
     ]
    }
   ],
   "source": [
    "import os\n",
    "import time\n",
    "import numpy as np\n",
    "import matplotlib.pyplot as plt\n",
    "from PIL import Image\n",
    "from tqdm.notebook import tqdm\n",
    "\n",
    "import torch\n",
    "import torch.nn as nn\n",
    "import torch.nn.functional as F\n",
    "import torch.optim as optim\n",
    "from torch.utils.data import Dataset, DataLoader\n",
    "from torchvision import transforms\n",
    "\n",
    "from sklearn.metrics import roc_curve, auc\n",
    "\n",
    "# Check for GPU\n",
    "device = torch.device(\"cuda\" if torch.cuda.is_available() else \"cpu\")\n",
    "print(f\"Using device: {device}\")"
   ]
  },
  {
   "cell_type": "markdown",
   "metadata": {},
   "source": [
    "2. Define the paths"
   ]
  },
  {
   "cell_type": "code",
   "execution_count": 2,
   "metadata": {
    "execution": {
     "iopub.execute_input": "2025-05-24T11:06:52.370194Z",
     "iopub.status.busy": "2025-05-24T11:06:52.369899Z",
     "iopub.status.idle": "2025-05-24T11:06:52.374096Z",
     "shell.execute_reply": "2025-05-24T11:06:52.373490Z",
     "shell.execute_reply.started": "2025-05-24T11:06:52.370177Z"
    },
    "trusted": true
   },
   "outputs": [],
   "source": [
    "# Define data paths\n",
    "base_path = '/kaggle/input/11-785-fall-20-homework-2-part-2/classification_data'\n",
    "train_path = os.path.join(base_path, 'train_data')\n",
    "val_path = os.path.join(base_path, 'val_data')\n",
    "test_path = os.path.join(base_path, 'test_data')"
   ]
  },
  {
   "cell_type": "code",
   "execution_count": 3,
   "metadata": {
    "execution": {
     "iopub.execute_input": "2025-05-24T11:06:52.376218Z",
     "iopub.status.busy": "2025-05-24T11:06:52.375870Z",
     "iopub.status.idle": "2025-05-24T11:06:52.401218Z",
     "shell.execute_reply": "2025-05-24T11:06:52.400553Z",
     "shell.execute_reply.started": "2025-05-24T11:06:52.376194Z"
    },
    "trusted": true
   },
   "outputs": [],
   "source": [
    "output_dir = '/kaggle/working'\n",
    "classification_dir = os.path.join(output_dir, 'classification_results')\n",
    "triplet_dir = os.path.join(output_dir, 'triplet_results')\n",
    "\n",
    "# Create directories for saving results\n",
    "os.makedirs(classification_dir, exist_ok=True)\n",
    "os.makedirs(triplet_dir, exist_ok=True)"
   ]
  },
  {
   "cell_type": "markdown",
   "metadata": {},
   "source": [
    "3. Dataset class implementation"
   ]
  },
  {
   "cell_type": "code",
   "execution_count": 4,
   "metadata": {
    "execution": {
     "iopub.execute_input": "2025-05-24T11:06:52.402189Z",
     "iopub.status.busy": "2025-05-24T11:06:52.401960Z",
     "iopub.status.idle": "2025-05-24T11:06:52.422802Z",
     "shell.execute_reply": "2025-05-24T11:06:52.422143Z",
     "shell.execute_reply.started": "2025-05-24T11:06:52.402166Z"
    },
    "trusted": true
   },
   "outputs": [],
   "source": [
    "class FaceDataset(Dataset):\n",
    "    \"\"\"\n",
    "    Dataset for loading face images with their class labels\n",
    "    \"\"\"\n",
    "    def __init__(self, root, transform=None, load_all=False):\n",
    "        self.root = root\n",
    "        self.transform = transform\n",
    "        self.unique_label_ids = os.listdir(self.root)\n",
    "        print(f\"Unique labels: {len(self.unique_label_ids)}\")\n",
    "        \n",
    "        self.image_paths = []\n",
    "        self.label_nums = []\n",
    "        self.label_ids = []\n",
    "        self.num_classes = len(self.unique_label_ids) \n",
    "        self.unique_label_nums = list(range(self.num_classes))\n",
    "        \n",
    "        # Iterate over each folder (each person)\n",
    "        for label_num, label_id in enumerate(self.unique_label_ids):\n",
    "            folder_path = os.path.join(self.root, label_id)\n",
    "            \n",
    "            # Get image paths\n",
    "            images_list = os.listdir(folder_path)\n",
    "            images_list_abs = [os.path.join(folder_path, image_path) for image_path in images_list]\n",
    "            self.image_paths += images_list_abs\n",
    "            \n",
    "            # Create labels\n",
    "            num_images = len(images_list)\n",
    "            image_label_ids = [label_id] * num_images\n",
    "            self.label_ids += image_label_ids\n",
    "            \n",
    "            # Create numeric labels\n",
    "            image_label_nums = [label_num] * num_images\n",
    "            self.label_nums += image_label_nums\n",
    "            \n",
    "        assert len(self.image_paths) == len(self.label_nums)\n",
    "        \n",
    "        self.data_len = len(self.label_nums)\n",
    "        print(f\"Total samples: {self.data_len}\")\n",
    "        \n",
    "        # Dictionary for caching images\n",
    "        self.images = {}\n",
    "        if load_all:\n",
    "            print(\"Loading all images...\")\n",
    "            for i in tqdm(range(self.data_len)):\n",
    "                self.images[i] = self.__load_image(i)\n",
    "                \n",
    "    def __load_image(self, index):\n",
    "        \"\"\"Load a single image\"\"\"\n",
    "        image_path = self.image_paths[index]\n",
    "        x = Image.open(image_path).convert('RGB')  # Ensure RGB format\n",
    "        if self.transform:\n",
    "            x = self.transform(x)\n",
    "        return x\n",
    "    \n",
    "    def __len__(self):\n",
    "        return self.data_len\n",
    "    \n",
    "    def __getitem__(self, index):\n",
    "        \"\"\"Get an image and its label\"\"\"\n",
    "        try:\n",
    "            x = self.images[index]\n",
    "        except KeyError:\n",
    "            x = self.__load_image(index)\n",
    "        return x, self.label_nums[index]\n",
    "    \n",
    "    def reduce_samples(self, ids):\n",
    "        \"\"\"Reduce dataset to contain only specified identity labels\"\"\"\n",
    "        current_len = self.data_len\n",
    "        new_image_paths = []\n",
    "        new_label_nums = []\n",
    "        new_label_ids = []\n",
    "        \n",
    "        for i in range(current_len):\n",
    "            label_id = self.label_ids[i]\n",
    "            image_path = self.image_paths[i]\n",
    "            \n",
    "            if label_id in ids:\n",
    "                new_label_ids.append(label_id)\n",
    "                new_image_paths.append(image_path)\n",
    "                new_label_nums.append(ids.index(label_id)) \n",
    "        \n",
    "        # Update labels\n",
    "        self.label_ids = new_label_ids\n",
    "        self.label_nums = new_label_nums\n",
    "        self.unique_label_ids = ids\n",
    "        self.num_classes = len(self.unique_label_ids)\n",
    "        self.unique_label_nums = list(range(self.num_classes))\n",
    "        \n",
    "        # Update image paths and clear cache\n",
    "        self.image_paths = new_image_paths\n",
    "        self.images = {}\n",
    "        \n",
    "        self.data_len = len(new_label_ids)\n",
    "        \n",
    "        print(f\"Before: {current_len}\")\n",
    "        print(f\"After: {self.data_len}\")\n",
    "        print(f\"Label nums: {len(self.label_nums)}\")\n",
    "        print(f\"New Unique labels: {self.num_classes}\")"
   ]
  },
  {
   "cell_type": "markdown",
   "metadata": {},
   "source": [
    "4. Define parameters ad Image Transformations"
   ]
  },
  {
   "cell_type": "code",
   "execution_count": null,
   "metadata": {
    "execution": {
     "iopub.execute_input": "2025-05-24T11:06:52.424030Z",
     "iopub.status.busy": "2025-05-24T11:06:52.423604Z",
     "iopub.status.idle": "2025-05-24T11:06:52.449846Z",
     "shell.execute_reply": "2025-05-24T11:06:52.449217Z",
     "shell.execute_reply.started": "2025-05-24T11:06:52.424013Z"
    },
    "trusted": true
   },
   "outputs": [],
   "source": [
    "# Define parameters\n",
    "params = {\n",
    "    'epochs': 30,\n",
    "    'batch_size': 128,\n",
    "    'num_labels': 1000,  # Number of classes to use\n",
    "    'embedding_dim': 128,  # Embedding dimension\n",
    "    'triplet_margin': 0.3,  # Margin for triplet loss\n",
    "}\n",
    "\n",
    "# Define image transformations\n",
    "transform = transforms.Compose([\n",
    "    transforms.Resize((64, 64)),  # Resize to 64x64\n",
    "    transforms.ToTensor(),\n",
    "    transforms.Normalize(mean=[0.485, 0.456, 0.406], std=[0.229, 0.224, 0.225]),\n",
    "])\n",
    "\n",
    "# Input channels\n",
    "IN_CHANNELS = 3"
   ]
  },
  {
   "cell_type": "markdown",
   "metadata": {},
   "source": [
    "5. Load and prepare datasets"
   ]
  },
  {
   "cell_type": "code",
   "execution_count": 6,
   "metadata": {
    "execution": {
     "iopub.execute_input": "2025-05-24T11:06:52.451143Z",
     "iopub.status.busy": "2025-05-24T11:06:52.450673Z",
     "iopub.status.idle": "2025-05-24T11:09:00.369880Z",
     "shell.execute_reply": "2025-05-24T11:09:00.369254Z",
     "shell.execute_reply.started": "2025-05-24T11:06:52.451120Z"
    },
    "trusted": true
   },
   "outputs": [
    {
     "name": "stdout",
     "output_type": "stream",
     "text": [
      "Loading Training Data\n",
      "Unique labels: 4000\n",
      "Total samples: 380638\n",
      "Before: 380638\n",
      "After: 47348\n",
      "Label nums: 47348\n",
      "New Unique labels: 500\n",
      "\n",
      "Loading Validation Data\n",
      "Unique labels: 4000\n",
      "Total samples: 8000\n",
      "Before: 8000\n",
      "After: 1000\n",
      "Label nums: 1000\n",
      "New Unique labels: 500\n",
      "Loading Test Data\n",
      "Unique labels: 4000\n",
      "Total samples: 8000\n",
      "Before: 8000\n",
      "After: 1000\n",
      "Label nums: 1000\n",
      "New Unique labels: 500\n",
      "Number of classes: 500\n"
     ]
    }
   ],
   "source": [
    "# Load training dataset\n",
    "print(\"Loading Training Data\")\n",
    "train_dataset = FaceDataset(train_path, transform=transform)\n",
    "labels = train_dataset.unique_label_ids[:params['num_labels']]\n",
    "train_dataset.reduce_samples(labels)\n",
    "print()\n",
    "\n",
    "# Load validation dataset\n",
    "print(\"Loading Validation Data\")\n",
    "val_dataset = FaceDataset(val_path, transform=transform)\n",
    "val_dataset.reduce_samples(labels)\n",
    "\n",
    "print(\"Loading Test Data\")\n",
    "test_dataset = FaceDataset(test_path, transform=transform)\n",
    "test_dataset.reduce_samples(labels)\n",
    "\n",
    "# Create data loaders\n",
    "train_loader = DataLoader(\n",
    "    train_dataset, \n",
    "    batch_size=params['batch_size'],\n",
    "    shuffle=True,\n",
    "    num_workers=2\n",
    ")\n",
    "\n",
    "val_loader = DataLoader(\n",
    "    val_dataset, \n",
    "    batch_size=params['batch_size'],\n",
    "    shuffle=False,\n",
    "    num_workers=2\n",
    ")\n",
    "\n",
    "test_loader = DataLoader(\n",
    "    test_dataset, \n",
    "    batch_size=params['batch_size'],\n",
    "    shuffle=False,\n",
    "    num_workers=2\n",
    ")\n",
    "\n",
    "# Set number of classes\n",
    "NUM_CLASSES = train_dataset.num_classes\n",
    "print(f\"Number of classes: {NUM_CLASSES}\")"
   ]
  },
  {
   "cell_type": "markdown",
   "metadata": {},
   "source": [
    "6. Define CNN for Classification"
   ]
  },
  {
   "cell_type": "code",
   "execution_count": 7,
   "metadata": {
    "execution": {
     "iopub.execute_input": "2025-05-24T11:09:00.370712Z",
     "iopub.status.busy": "2025-05-24T11:09:00.370527Z",
     "iopub.status.idle": "2025-05-24T11:09:00.378405Z",
     "shell.execute_reply": "2025-05-24T11:09:00.377807Z",
     "shell.execute_reply.started": "2025-05-24T11:09:00.370697Z"
    },
    "trusted": true
   },
   "outputs": [],
   "source": [
    "class FaceClassificationModel(nn.Module):\n",
    "    \"\"\"\n",
    "    CNN model for face classification with extractable embeddings\n",
    "    \"\"\"\n",
    "    def __init__(self, in_channels, num_classes, embedding_dim=128):\n",
    "        super(FaceClassificationModel, self).__init__()\n",
    "        \n",
    "        # Feature extraction layers\n",
    "        self.features = nn.Sequential(\n",
    "            # First conv block\n",
    "            nn.Conv2d(in_channels, 64, kernel_size=3, padding=1),\n",
    "            nn.BatchNorm2d(64),\n",
    "            nn.ReLU(inplace=True),\n",
    "            nn.Conv2d(64, 64, kernel_size=3, padding=1),\n",
    "            nn.BatchNorm2d(64),\n",
    "            nn.ReLU(inplace=True),\n",
    "            nn.MaxPool2d(2, 2),\n",
    "            \n",
    "            # Second conv block\n",
    "            nn.Conv2d(64, 128, kernel_size=3, padding=1),\n",
    "            nn.BatchNorm2d(128),\n",
    "            nn.ReLU(inplace=True),\n",
    "            nn.Conv2d(128, 128, kernel_size=3, padding=1),\n",
    "            nn.BatchNorm2d(128),\n",
    "            nn.ReLU(inplace=True),\n",
    "            nn.MaxPool2d(2, 2),\n",
    "            \n",
    "            # Third conv block\n",
    "            nn.Conv2d(128, 256, kernel_size=3, padding=1),\n",
    "            nn.BatchNorm2d(256),\n",
    "            nn.ReLU(inplace=True),\n",
    "            nn.Conv2d(256, 256, kernel_size=3, padding=1),\n",
    "            nn.BatchNorm2d(256),\n",
    "            nn.ReLU(inplace=True),\n",
    "            nn.MaxPool2d(2, 2),\n",
    "        )\n",
    "        \n",
    "        # Calculate the size of flattened features\n",
    "        # Input: 64x64 -> After 3 MaxPool: 8x8\n",
    "        flat_features_size = 256 * 8 * 8\n",
    "        \n",
    "        # Embedding layer\n",
    "        self.embedding = nn.Sequential(\n",
    "            nn.Flatten(),\n",
    "            nn.Linear(flat_features_size, 512),\n",
    "            nn.BatchNorm1d(512),\n",
    "            nn.ReLU(inplace=True),\n",
    "            nn.Linear(512, embedding_dim),\n",
    "            nn.BatchNorm1d(embedding_dim)\n",
    "        )\n",
    "        \n",
    "        # Classification layer\n",
    "        self.classifier = nn.Linear(embedding_dim, num_classes)\n",
    "        \n",
    "    def forward(self, x, return_embedding=False):\n",
    "        x = self.features(x)\n",
    "        embedding = self.embedding(x)\n",
    "        \n",
    "        # Normalize embedding for similarity calculations\n",
    "        normalized_embedding = F.normalize(embedding, p=2, dim=1)\n",
    "        \n",
    "        if return_embedding:\n",
    "            return normalized_embedding\n",
    "        \n",
    "        # Classification output\n",
    "        logits = self.classifier(embedding)\n",
    "        return logits, normalized_embedding"
   ]
  },
  {
   "cell_type": "markdown",
   "metadata": {},
   "source": [
    "7. Define training and validation functions for classification"
   ]
  },
  {
   "cell_type": "code",
   "execution_count": 8,
   "metadata": {
    "execution": {
     "iopub.execute_input": "2025-05-24T11:09:00.379454Z",
     "iopub.status.busy": "2025-05-24T11:09:00.379165Z",
     "iopub.status.idle": "2025-05-24T11:09:00.410275Z",
     "shell.execute_reply": "2025-05-24T11:09:00.409610Z",
     "shell.execute_reply.started": "2025-05-24T11:09:00.379436Z"
    },
    "trusted": true
   },
   "outputs": [],
   "source": [
    "def train_classification_model(model, train_loader, val_loader, epochs):\n",
    "    \"\"\"\n",
    "    Train the classification model\n",
    "    \"\"\"\n",
    "    criterion = nn.CrossEntropyLoss()\n",
    "    optimizer = optim.SGD(model.parameters(), lr=0.01, momentum=0.9, weight_decay=1e-4)\n",
    "    scheduler = optim.lr_scheduler.StepLR(optimizer, step_size=5, gamma=0.1)\n",
    "    \n",
    "    # Training history\n",
    "    history = {\n",
    "        'train_loss': [],\n",
    "        'train_acc': [],\n",
    "        'val_loss': [],\n",
    "        'val_acc': [],\n",
    "        'time_per_epoch': []\n",
    "    }\n",
    "    \n",
    "    for epoch in range(epochs):\n",
    "        start_time = time.time()\n",
    "        \n",
    "        # Training phase\n",
    "        model.train()\n",
    "        train_loss = 0.0\n",
    "        train_correct = 0\n",
    "        \n",
    "        progress_bar = tqdm(train_loader, desc=f\"Epoch {epoch+1}/{epochs} [Train]\")\n",
    "        for inputs, labels in progress_bar:\n",
    "            inputs, labels = inputs.to(device), labels.to(device)\n",
    "            \n",
    "            # Zero the parameter gradients\n",
    "            optimizer.zero_grad()\n",
    "            \n",
    "            # Forward pass\n",
    "            logits, _ = model(inputs)\n",
    "            loss = criterion(logits, labels)\n",
    "            \n",
    "            # Backward pass and optimize\n",
    "            loss.backward()\n",
    "            optimizer.step()\n",
    "            \n",
    "            # Statistics\n",
    "            train_loss += loss.item() * inputs.size(0)\n",
    "            _, preds = torch.max(logits, 1)\n",
    "            train_correct += torch.sum(preds == labels).item()\n",
    "            \n",
    "            # Update progress bar\n",
    "            progress_bar.set_postfix({\n",
    "                'loss': f\"{loss.item():.4f}\",\n",
    "                'acc': f\"{torch.sum(preds == labels).item() / inputs.size(0):.4f}\"\n",
    "            })\n",
    "        \n",
    "        # Validation phase\n",
    "        model.eval()\n",
    "        val_loss = 0.0\n",
    "        val_correct = 0\n",
    "        \n",
    "        with torch.no_grad():\n",
    "            progress_bar = tqdm(val_loader, desc=f\"Epoch {epoch+1}/{epochs} [Val]\")\n",
    "            for inputs, labels in progress_bar:\n",
    "                inputs, labels = inputs.to(device), labels.to(device)\n",
    "                \n",
    "                # Forward pass\n",
    "                logits, _ = model(inputs)\n",
    "                loss = criterion(logits, labels)\n",
    "                \n",
    "                # Statistics\n",
    "                val_loss += loss.item() * inputs.size(0)\n",
    "                _, preds = torch.max(logits, 1)\n",
    "                val_correct += torch.sum(preds == labels).item()\n",
    "                \n",
    "                # Update progress bar\n",
    "                progress_bar.set_postfix({\n",
    "                    'loss': f\"{loss.item():.4f}\",\n",
    "                    'acc': f\"{torch.sum(preds == labels).item() / inputs.size(0):.4f}\"\n",
    "                })\n",
    "        \n",
    "        # Calculate epoch metrics\n",
    "        epoch_train_loss = train_loss / len(train_loader.dataset)\n",
    "        epoch_train_acc = train_correct / len(train_loader.dataset)\n",
    "        epoch_val_loss = val_loss / len(val_loader.dataset)\n",
    "        epoch_val_acc = val_correct / len(val_loader.dataset)\n",
    "        epoch_time = time.time() - start_time\n",
    "        \n",
    "        # Update scheduler\n",
    "        scheduler.step()\n",
    "        \n",
    "        # Save metrics\n",
    "        history['train_loss'].append(epoch_train_loss)\n",
    "        history['train_acc'].append(epoch_train_acc)\n",
    "        history['val_loss'].append(epoch_val_loss)\n",
    "        history['val_acc'].append(epoch_val_acc)\n",
    "        history['time_per_epoch'].append(epoch_time)\n",
    "        \n",
    "        # Print summary\n",
    "        print(f\"Epoch {epoch+1}/{epochs} - \"\n",
    "              f\"Train Loss: {epoch_train_loss:.4f}, Train Acc: {epoch_train_acc:.4f}, \"\n",
    "              f\"Val Loss: {epoch_val_loss:.4f}, Val Acc: {epoch_val_acc:.4f}, \"\n",
    "              f\"Time: {epoch_time:.2f}s\")\n",
    "    return history"
   ]
  },
  {
   "cell_type": "markdown",
   "metadata": {},
   "source": [
    "8. Train classification model"
   ]
  },
  {
   "cell_type": "code",
   "execution_count": 9,
   "metadata": {
    "execution": {
     "iopub.execute_input": "2025-05-24T11:09:00.412929Z",
     "iopub.status.busy": "2025-05-24T11:09:00.412471Z",
     "iopub.status.idle": "2025-05-24T11:28:17.118638Z",
     "shell.execute_reply": "2025-05-24T11:28:17.117734Z",
     "shell.execute_reply.started": "2025-05-24T11:09:00.412912Z"
    },
    "trusted": true
   },
   "outputs": [
    {
     "name": "stdout",
     "output_type": "stream",
     "text": [
      "Classification model has 9,667,764 trainable parameters\n"
     ]
    },
    {
     "data": {
      "application/vnd.jupyter.widget-view+json": {
       "model_id": "6930429ca9074f64bf86f36799931e21",
       "version_major": 2,
       "version_minor": 0
      },
      "text/plain": [
       "Epoch 1/20 [Train]:   0%|          | 0/370 [00:00<?, ?it/s]"
      ]
     },
     "metadata": {},
     "output_type": "display_data"
    },
    {
     "data": {
      "application/vnd.jupyter.widget-view+json": {
       "model_id": "ac6cd907e3fe4c059377bfe5088aeb63",
       "version_major": 2,
       "version_minor": 0
      },
      "text/plain": [
       "Epoch 1/20 [Val]:   0%|          | 0/8 [00:00<?, ?it/s]"
      ]
     },
     "metadata": {},
     "output_type": "display_data"
    },
    {
     "name": "stdout",
     "output_type": "stream",
     "text": [
      "Epoch 1/20 - Train Loss: 5.1968, Train Acc: 0.0852, Val Loss: 4.6330, Val Acc: 0.1280, Time: 216.15s\n"
     ]
    },
    {
     "data": {
      "application/vnd.jupyter.widget-view+json": {
       "model_id": "f1e77bdf2a76479887885872d3779fbe",
       "version_major": 2,
       "version_minor": 0
      },
      "text/plain": [
       "Epoch 2/20 [Train]:   0%|          | 0/370 [00:00<?, ?it/s]"
      ]
     },
     "metadata": {},
     "output_type": "display_data"
    },
    {
     "data": {
      "application/vnd.jupyter.widget-view+json": {
       "model_id": "b6841005a9e940e0a528c5f27f49ead6",
       "version_major": 2,
       "version_minor": 0
      },
      "text/plain": [
       "Epoch 2/20 [Val]:   0%|          | 0/8 [00:00<?, ?it/s]"
      ]
     },
     "metadata": {},
     "output_type": "display_data"
    },
    {
     "name": "stdout",
     "output_type": "stream",
     "text": [
      "Epoch 2/20 - Train Loss: 3.5152, Train Acc: 0.3175, Val Loss: 3.4605, Val Acc: 0.2990, Time: 48.44s\n"
     ]
    },
    {
     "data": {
      "application/vnd.jupyter.widget-view+json": {
       "model_id": "6e5a7edd9bd741acb012c512496c5c1e",
       "version_major": 2,
       "version_minor": 0
      },
      "text/plain": [
       "Epoch 3/20 [Train]:   0%|          | 0/370 [00:00<?, ?it/s]"
      ]
     },
     "metadata": {},
     "output_type": "display_data"
    },
    {
     "data": {
      "application/vnd.jupyter.widget-view+json": {
       "model_id": "a606094c6cf548bf8a01aa32cff66aa0",
       "version_major": 2,
       "version_minor": 0
      },
      "text/plain": [
       "Epoch 3/20 [Val]:   0%|          | 0/8 [00:00<?, ?it/s]"
      ]
     },
     "metadata": {},
     "output_type": "display_data"
    },
    {
     "name": "stdout",
     "output_type": "stream",
     "text": [
      "Epoch 3/20 - Train Loss: 2.1802, Train Acc: 0.5676, Val Loss: 2.7929, Val Acc: 0.3920, Time: 50.86s\n"
     ]
    },
    {
     "data": {
      "application/vnd.jupyter.widget-view+json": {
       "model_id": "2ace2e61e3b145f0bc1f9c752caba86a",
       "version_major": 2,
       "version_minor": 0
      },
      "text/plain": [
       "Epoch 4/20 [Train]:   0%|          | 0/370 [00:00<?, ?it/s]"
      ]
     },
     "metadata": {},
     "output_type": "display_data"
    },
    {
     "data": {
      "application/vnd.jupyter.widget-view+json": {
       "model_id": "c35ca47446ee4988af3df75cbc62f116",
       "version_major": 2,
       "version_minor": 0
      },
      "text/plain": [
       "Epoch 4/20 [Val]:   0%|          | 0/8 [00:00<?, ?it/s]"
      ]
     },
     "metadata": {},
     "output_type": "display_data"
    },
    {
     "name": "stdout",
     "output_type": "stream",
     "text": [
      "Epoch 4/20 - Train Loss: 1.1230, Train Acc: 0.7917, Val Loss: 2.5427, Val Acc: 0.4420, Time: 49.90s\n"
     ]
    },
    {
     "data": {
      "application/vnd.jupyter.widget-view+json": {
       "model_id": "e477c879a417441d808c20f97250024f",
       "version_major": 2,
       "version_minor": 0
      },
      "text/plain": [
       "Epoch 5/20 [Train]:   0%|          | 0/370 [00:00<?, ?it/s]"
      ]
     },
     "metadata": {},
     "output_type": "display_data"
    },
    {
     "data": {
      "application/vnd.jupyter.widget-view+json": {
       "model_id": "c832478b0ecb4b8b8d76543db51200f8",
       "version_major": 2,
       "version_minor": 0
      },
      "text/plain": [
       "Epoch 5/20 [Val]:   0%|          | 0/8 [00:00<?, ?it/s]"
      ]
     },
     "metadata": {},
     "output_type": "display_data"
    },
    {
     "name": "stdout",
     "output_type": "stream",
     "text": [
      "Epoch 5/20 - Train Loss: 0.3144, Train Acc: 0.9669, Val Loss: 2.3007, Val Acc: 0.5150, Time: 51.02s\n"
     ]
    },
    {
     "data": {
      "application/vnd.jupyter.widget-view+json": {
       "model_id": "2c3ebdc6fc214958894f3a06a6c3add5",
       "version_major": 2,
       "version_minor": 0
      },
      "text/plain": [
       "Epoch 6/20 [Train]:   0%|          | 0/370 [00:00<?, ?it/s]"
      ]
     },
     "metadata": {},
     "output_type": "display_data"
    },
    {
     "data": {
      "application/vnd.jupyter.widget-view+json": {
       "model_id": "bd7e1d092fd24b2d8af2775aebe37f96",
       "version_major": 2,
       "version_minor": 0
      },
      "text/plain": [
       "Epoch 6/20 [Val]:   0%|          | 0/8 [00:00<?, ?it/s]"
      ]
     },
     "metadata": {},
     "output_type": "display_data"
    },
    {
     "name": "stdout",
     "output_type": "stream",
     "text": [
      "Epoch 6/20 - Train Loss: 0.0595, Train Acc: 0.9996, Val Loss: 2.1439, Val Acc: 0.5360, Time: 48.74s\n"
     ]
    },
    {
     "data": {
      "application/vnd.jupyter.widget-view+json": {
       "model_id": "0c14d6ffd63d430ea525fc0b3a6a3237",
       "version_major": 2,
       "version_minor": 0
      },
      "text/plain": [
       "Epoch 7/20 [Train]:   0%|          | 0/370 [00:00<?, ?it/s]"
      ]
     },
     "metadata": {},
     "output_type": "display_data"
    },
    {
     "data": {
      "application/vnd.jupyter.widget-view+json": {
       "model_id": "e45fc908281d42c9bbc7f30f12ac42c7",
       "version_major": 2,
       "version_minor": 0
      },
      "text/plain": [
       "Epoch 7/20 [Val]:   0%|          | 0/8 [00:00<?, ?it/s]"
      ]
     },
     "metadata": {},
     "output_type": "display_data"
    },
    {
     "name": "stdout",
     "output_type": "stream",
     "text": [
      "Epoch 7/20 - Train Loss: 0.0389, Train Acc: 1.0000, Val Loss: 2.1243, Val Acc: 0.5400, Time: 50.86s\n"
     ]
    },
    {
     "data": {
      "application/vnd.jupyter.widget-view+json": {
       "model_id": "250c8d7eec4e4f6a981772d3da9d4b8b",
       "version_major": 2,
       "version_minor": 0
      },
      "text/plain": [
       "Epoch 8/20 [Train]:   0%|          | 0/370 [00:00<?, ?it/s]"
      ]
     },
     "metadata": {},
     "output_type": "display_data"
    },
    {
     "data": {
      "application/vnd.jupyter.widget-view+json": {
       "model_id": "58956fd4b82b437eaff55858dad777c3",
       "version_major": 2,
       "version_minor": 0
      },
      "text/plain": [
       "Epoch 8/20 [Val]:   0%|          | 0/8 [00:00<?, ?it/s]"
      ]
     },
     "metadata": {},
     "output_type": "display_data"
    },
    {
     "name": "stdout",
     "output_type": "stream",
     "text": [
      "Epoch 8/20 - Train Loss: 0.0321, Train Acc: 1.0000, Val Loss: 2.1130, Val Acc: 0.5420, Time: 48.55s\n"
     ]
    },
    {
     "data": {
      "application/vnd.jupyter.widget-view+json": {
       "model_id": "cd24c9ede72540d7a672efc7fcbb108c",
       "version_major": 2,
       "version_minor": 0
      },
      "text/plain": [
       "Epoch 9/20 [Train]:   0%|          | 0/370 [00:00<?, ?it/s]"
      ]
     },
     "metadata": {},
     "output_type": "display_data"
    },
    {
     "data": {
      "application/vnd.jupyter.widget-view+json": {
       "model_id": "306791d33acf4f0e9d50dab10889120e",
       "version_major": 2,
       "version_minor": 0
      },
      "text/plain": [
       "Epoch 9/20 [Val]:   0%|          | 0/8 [00:00<?, ?it/s]"
      ]
     },
     "metadata": {},
     "output_type": "display_data"
    },
    {
     "name": "stdout",
     "output_type": "stream",
     "text": [
      "Epoch 9/20 - Train Loss: 0.0281, Train Acc: 1.0000, Val Loss: 2.1089, Val Acc: 0.5460, Time: 49.16s\n"
     ]
    },
    {
     "data": {
      "application/vnd.jupyter.widget-view+json": {
       "model_id": "4fc3580ba19548aa866589acc5d3c1d7",
       "version_major": 2,
       "version_minor": 0
      },
      "text/plain": [
       "Epoch 10/20 [Train]:   0%|          | 0/370 [00:00<?, ?it/s]"
      ]
     },
     "metadata": {},
     "output_type": "display_data"
    },
    {
     "data": {
      "application/vnd.jupyter.widget-view+json": {
       "model_id": "aa6bcc93c5884b69a7ec089fa58dad12",
       "version_major": 2,
       "version_minor": 0
      },
      "text/plain": [
       "Epoch 10/20 [Val]:   0%|          | 0/8 [00:00<?, ?it/s]"
      ]
     },
     "metadata": {},
     "output_type": "display_data"
    },
    {
     "name": "stdout",
     "output_type": "stream",
     "text": [
      "Epoch 10/20 - Train Loss: 0.0254, Train Acc: 1.0000, Val Loss: 2.1093, Val Acc: 0.5410, Time: 49.85s\n"
     ]
    },
    {
     "data": {
      "application/vnd.jupyter.widget-view+json": {
       "model_id": "a10ec387a57a473087b2701397fbe9e6",
       "version_major": 2,
       "version_minor": 0
      },
      "text/plain": [
       "Epoch 11/20 [Train]:   0%|          | 0/370 [00:00<?, ?it/s]"
      ]
     },
     "metadata": {},
     "output_type": "display_data"
    },
    {
     "data": {
      "application/vnd.jupyter.widget-view+json": {
       "model_id": "cd3cfbbea0e54cbdb8bda5d083ec28c3",
       "version_major": 2,
       "version_minor": 0
      },
      "text/plain": [
       "Epoch 11/20 [Val]:   0%|          | 0/8 [00:00<?, ?it/s]"
      ]
     },
     "metadata": {},
     "output_type": "display_data"
    },
    {
     "name": "stdout",
     "output_type": "stream",
     "text": [
      "Epoch 11/20 - Train Loss: 0.0236, Train Acc: 1.0000, Val Loss: 2.1008, Val Acc: 0.5470, Time: 51.42s\n"
     ]
    },
    {
     "data": {
      "application/vnd.jupyter.widget-view+json": {
       "model_id": "65a43b78f89e4ad4850eb2a48b9a50b4",
       "version_major": 2,
       "version_minor": 0
      },
      "text/plain": [
       "Epoch 12/20 [Train]:   0%|          | 0/370 [00:00<?, ?it/s]"
      ]
     },
     "metadata": {},
     "output_type": "display_data"
    },
    {
     "data": {
      "application/vnd.jupyter.widget-view+json": {
       "model_id": "5c671666bea5470082f9c8cb67992bb3",
       "version_major": 2,
       "version_minor": 0
      },
      "text/plain": [
       "Epoch 12/20 [Val]:   0%|          | 0/8 [00:00<?, ?it/s]"
      ]
     },
     "metadata": {},
     "output_type": "display_data"
    },
    {
     "name": "stdout",
     "output_type": "stream",
     "text": [
      "Epoch 12/20 - Train Loss: 0.0233, Train Acc: 1.0000, Val Loss: 2.1043, Val Acc: 0.5500, Time: 49.36s\n"
     ]
    },
    {
     "data": {
      "application/vnd.jupyter.widget-view+json": {
       "model_id": "118e7106a5da4c8c89784d8b457990a9",
       "version_major": 2,
       "version_minor": 0
      },
      "text/plain": [
       "Epoch 13/20 [Train]:   0%|          | 0/370 [00:00<?, ?it/s]"
      ]
     },
     "metadata": {},
     "output_type": "display_data"
    },
    {
     "data": {
      "application/vnd.jupyter.widget-view+json": {
       "model_id": "3785ed758de04e40aa0d9567d68c960e",
       "version_major": 2,
       "version_minor": 0
      },
      "text/plain": [
       "Epoch 13/20 [Val]:   0%|          | 0/8 [00:00<?, ?it/s]"
      ]
     },
     "metadata": {},
     "output_type": "display_data"
    },
    {
     "name": "stdout",
     "output_type": "stream",
     "text": [
      "Epoch 13/20 - Train Loss: 0.0232, Train Acc: 1.0000, Val Loss: 2.1039, Val Acc: 0.5420, Time: 48.38s\n"
     ]
    },
    {
     "data": {
      "application/vnd.jupyter.widget-view+json": {
       "model_id": "ddc43a5602d340b8a8fe4c7269f6d487",
       "version_major": 2,
       "version_minor": 0
      },
      "text/plain": [
       "Epoch 14/20 [Train]:   0%|          | 0/370 [00:00<?, ?it/s]"
      ]
     },
     "metadata": {},
     "output_type": "display_data"
    },
    {
     "data": {
      "application/vnd.jupyter.widget-view+json": {
       "model_id": "f93bf9ca2a0944dc95ee598c7e20ee23",
       "version_major": 2,
       "version_minor": 0
      },
      "text/plain": [
       "Epoch 14/20 [Val]:   0%|          | 0/8 [00:00<?, ?it/s]"
      ]
     },
     "metadata": {},
     "output_type": "display_data"
    },
    {
     "name": "stdout",
     "output_type": "stream",
     "text": [
      "Epoch 14/20 - Train Loss: 0.0230, Train Acc: 1.0000, Val Loss: 2.1033, Val Acc: 0.5480, Time: 48.47s\n"
     ]
    },
    {
     "data": {
      "application/vnd.jupyter.widget-view+json": {
       "model_id": "b4ce357d264448aeb7dc2ef766930223",
       "version_major": 2,
       "version_minor": 0
      },
      "text/plain": [
       "Epoch 15/20 [Train]:   0%|          | 0/370 [00:00<?, ?it/s]"
      ]
     },
     "metadata": {},
     "output_type": "display_data"
    },
    {
     "data": {
      "application/vnd.jupyter.widget-view+json": {
       "model_id": "c7e29a5c3c2a47429c9db74e43076911",
       "version_major": 2,
       "version_minor": 0
      },
      "text/plain": [
       "Epoch 15/20 [Val]:   0%|          | 0/8 [00:00<?, ?it/s]"
      ]
     },
     "metadata": {},
     "output_type": "display_data"
    },
    {
     "name": "stdout",
     "output_type": "stream",
     "text": [
      "Epoch 15/20 - Train Loss: 0.0228, Train Acc: 1.0000, Val Loss: 2.1021, Val Acc: 0.5490, Time: 48.02s\n"
     ]
    },
    {
     "data": {
      "application/vnd.jupyter.widget-view+json": {
       "model_id": "bd71083c99544c478cf9e21b43410b5a",
       "version_major": 2,
       "version_minor": 0
      },
      "text/plain": [
       "Epoch 16/20 [Train]:   0%|          | 0/370 [00:00<?, ?it/s]"
      ]
     },
     "metadata": {},
     "output_type": "display_data"
    },
    {
     "data": {
      "application/vnd.jupyter.widget-view+json": {
       "model_id": "278dd03496fb468385dc9ca13f8b1eea",
       "version_major": 2,
       "version_minor": 0
      },
      "text/plain": [
       "Epoch 16/20 [Val]:   0%|          | 0/8 [00:00<?, ?it/s]"
      ]
     },
     "metadata": {},
     "output_type": "display_data"
    },
    {
     "name": "stdout",
     "output_type": "stream",
     "text": [
      "Epoch 16/20 - Train Loss: 0.0226, Train Acc: 1.0000, Val Loss: 2.1028, Val Acc: 0.5450, Time: 49.44s\n"
     ]
    },
    {
     "data": {
      "application/vnd.jupyter.widget-view+json": {
       "model_id": "c4ac88192c3a4e98b1113343fb108db0",
       "version_major": 2,
       "version_minor": 0
      },
      "text/plain": [
       "Epoch 17/20 [Train]:   0%|          | 0/370 [00:00<?, ?it/s]"
      ]
     },
     "metadata": {},
     "output_type": "display_data"
    },
    {
     "data": {
      "application/vnd.jupyter.widget-view+json": {
       "model_id": "be5192c29de84024ba2799d4582177bb",
       "version_major": 2,
       "version_minor": 0
      },
      "text/plain": [
       "Epoch 17/20 [Val]:   0%|          | 0/8 [00:00<?, ?it/s]"
      ]
     },
     "metadata": {},
     "output_type": "display_data"
    },
    {
     "name": "stdout",
     "output_type": "stream",
     "text": [
      "Epoch 17/20 - Train Loss: 0.0226, Train Acc: 1.0000, Val Loss: 2.1016, Val Acc: 0.5460, Time: 49.50s\n"
     ]
    },
    {
     "data": {
      "application/vnd.jupyter.widget-view+json": {
       "model_id": "04816a083add426ca9e53988946de241",
       "version_major": 2,
       "version_minor": 0
      },
      "text/plain": [
       "Epoch 18/20 [Train]:   0%|          | 0/370 [00:00<?, ?it/s]"
      ]
     },
     "metadata": {},
     "output_type": "display_data"
    },
    {
     "data": {
      "application/vnd.jupyter.widget-view+json": {
       "model_id": "775967e3af6c4c26a4feb8aca6b0076b",
       "version_major": 2,
       "version_minor": 0
      },
      "text/plain": [
       "Epoch 18/20 [Val]:   0%|          | 0/8 [00:00<?, ?it/s]"
      ]
     },
     "metadata": {},
     "output_type": "display_data"
    },
    {
     "name": "stdout",
     "output_type": "stream",
     "text": [
      "Epoch 18/20 - Train Loss: 0.0225, Train Acc: 1.0000, Val Loss: 2.1027, Val Acc: 0.5420, Time: 51.44s\n"
     ]
    },
    {
     "data": {
      "application/vnd.jupyter.widget-view+json": {
       "model_id": "5ecd380126744968bff2878e52d9e53a",
       "version_major": 2,
       "version_minor": 0
      },
      "text/plain": [
       "Epoch 19/20 [Train]:   0%|          | 0/370 [00:00<?, ?it/s]"
      ]
     },
     "metadata": {},
     "output_type": "display_data"
    },
    {
     "data": {
      "application/vnd.jupyter.widget-view+json": {
       "model_id": "9152887eda454cf28b95a81eae094b79",
       "version_major": 2,
       "version_minor": 0
      },
      "text/plain": [
       "Epoch 19/20 [Val]:   0%|          | 0/8 [00:00<?, ?it/s]"
      ]
     },
     "metadata": {},
     "output_type": "display_data"
    },
    {
     "name": "stdout",
     "output_type": "stream",
     "text": [
      "Epoch 19/20 - Train Loss: 0.0225, Train Acc: 1.0000, Val Loss: 2.1066, Val Acc: 0.5520, Time: 48.94s\n"
     ]
    },
    {
     "data": {
      "application/vnd.jupyter.widget-view+json": {
       "model_id": "56ade903e0e04144b9a797a68e047f40",
       "version_major": 2,
       "version_minor": 0
      },
      "text/plain": [
       "Epoch 20/20 [Train]:   0%|          | 0/370 [00:00<?, ?it/s]"
      ]
     },
     "metadata": {},
     "output_type": "display_data"
    },
    {
     "data": {
      "application/vnd.jupyter.widget-view+json": {
       "model_id": "31c155727d8342f4b173ab767ada4cfa",
       "version_major": 2,
       "version_minor": 0
      },
      "text/plain": [
       "Epoch 20/20 [Val]:   0%|          | 0/8 [00:00<?, ?it/s]"
      ]
     },
     "metadata": {},
     "output_type": "display_data"
    },
    {
     "name": "stdout",
     "output_type": "stream",
     "text": [
      "Epoch 20/20 - Train Loss: 0.0225, Train Acc: 1.0000, Val Loss: 2.1034, Val Acc: 0.5440, Time: 47.79s\n"
     ]
    }
   ],
   "source": [
    "# Initialize and train classification model\n",
    "classification_model = FaceClassificationModel(\n",
    "    in_channels=IN_CHANNELS,\n",
    "    num_classes=NUM_CLASSES,\n",
    "    embedding_dim=params['embedding_dim']\n",
    ").to(device)\n",
    "\n",
    "# Count parameters\n",
    "def count_parameters(model):\n",
    "    return sum(p.numel() for p in model.parameters() if p.requires_grad)\n",
    "\n",
    "print(f\"Classification model has {count_parameters(classification_model):,} trainable parameters\")\n",
    "\n",
    "# Train the model\n",
    "classification_history = train_classification_model(\n",
    "    classification_model, \n",
    "    train_loader, \n",
    "    val_loader, \n",
    "    params['epochs']\n",
    ")\n",
    "\n",
    "# Save the trained model\n",
    "#torch.save(classification_model.state_dict(), 'classification_results/classification_model.pth')\n",
    "torch.save(classification_model.state_dict(), os.path.join(classification_dir, 'classification_model.pth'))"
   ]
  },
  {
   "cell_type": "markdown",
   "metadata": {},
   "source": [
    "9. Plot classfication results"
   ]
  },
  {
   "cell_type": "code",
   "execution_count": 10,
   "metadata": {
    "execution": {
     "iopub.execute_input": "2025-05-24T11:28:17.120164Z",
     "iopub.status.busy": "2025-05-24T11:28:17.119834Z",
     "iopub.status.idle": "2025-05-24T11:28:17.715063Z",
     "shell.execute_reply": "2025-05-24T11:28:17.714315Z",
     "shell.execute_reply.started": "2025-05-24T11:28:17.120127Z"
    },
    "trusted": true
   },
   "outputs": [
    {
     "data": {
      "image/png": "[encoded data removed]",
      "text/plain": [
       "<Figure size 1200x500 with 2 Axes>"
      ]
     },
     "metadata": {},
     "output_type": "display_data"
    }
   ],
   "source": [
    "def plot_classification_results(history):\n",
    "    \"\"\"\n",
    "    Plot training and validation metrics\n",
    "    \"\"\"\n",
    "    epochs = range(1, len(history['train_loss']) + 1)\n",
    "    \n",
    "    # Plot loss\n",
    "    plt.figure(figsize=(12, 5))\n",
    "    plt.subplot(1, 2, 1)\n",
    "    plt.plot(epochs, history['train_loss'], 'b-', label='Training Loss')\n",
    "    plt.plot(epochs, history['val_loss'], 'r-', label='Validation Loss')\n",
    "    plt.title('Training and Validation Loss')\n",
    "    plt.xlabel('Epochs')\n",
    "    plt.ylabel('Loss')\n",
    "    plt.legend()\n",
    "    plt.grid(True)\n",
    "    \n",
    "    # Plot accuracy\n",
    "    plt.subplot(1, 2, 2)\n",
    "    plt.plot(epochs, history['train_acc'], 'b-', label='Training Accuracy')\n",
    "    plt.plot(epochs, history['val_acc'], 'r-', label='Validation Accuracy')\n",
    "    plt.title('Training and Validation Accuracy')\n",
    "    plt.xlabel('Epochs')\n",
    "    plt.ylabel('Accuracy')\n",
    "    plt.legend()\n",
    "    plt.grid(True)\n",
    "    \n",
    "    plt.tight_layout()\n",
    "    plt.show()\n",
    "\n",
    "# Plot the results\n",
    "plot_classification_results(classification_history)"
   ]
  },
  {
   "cell_type": "markdown",
   "metadata": {},
   "source": [
    "10. Implement Triplet dataset"
   ]
  },
  {
   "cell_type": "code",
   "execution_count": 11,
   "metadata": {
    "execution": {
     "iopub.execute_input": "2025-05-24T11:28:17.715974Z",
     "iopub.status.busy": "2025-05-24T11:28:17.715751Z",
     "iopub.status.idle": "2025-05-24T11:28:17.722803Z",
     "shell.execute_reply": "2025-05-24T11:28:17.722308Z",
     "shell.execute_reply.started": "2025-05-24T11:28:17.715958Z"
    },
    "trusted": true
   },
   "outputs": [],
   "source": [
    "class TripletFaceDataset(Dataset):\n",
    "    \"\"\"\n",
    "    Dataset that returns triplets (anchor, positive, negative) for triplet loss training\n",
    "    \"\"\"\n",
    "    def __init__(self, base_dataset, num_triplets=10000):\n",
    "        self.base_dataset = base_dataset\n",
    "        self.num_triplets = num_triplets\n",
    "        \n",
    "        # Group images by label\n",
    "        self.label_to_indices = {}\n",
    "        for idx, (_, label) in enumerate(base_dataset):\n",
    "            if label not in self.label_to_indices:\n",
    "                self.label_to_indices[label] = []\n",
    "            self.label_to_indices[label].append(idx)\n",
    "        \n",
    "        # Filter out labels with only one image\n",
    "        self.valid_labels = [label for label in self.label_to_indices \n",
    "                             if len(self.label_to_indices[label]) > 1]\n",
    "        \n",
    "        # Generate triplets\n",
    "        self.triplets = self._generate_triplets()\n",
    "        \n",
    "    def _generate_triplets(self):\n",
    "        \"\"\"Generate random triplets of (anchor, positive, negative)\"\"\"\n",
    "        triplets = []\n",
    "        for _ in range(self.num_triplets):\n",
    "            # Select anchor label\n",
    "            anchor_label = np.random.choice(self.valid_labels)\n",
    "            \n",
    "            # Select different label for negative\n",
    "            negative_label = np.random.choice([l for l in self.valid_labels if l != anchor_label])\n",
    "            \n",
    "            # Select two different images for anchor and positive\n",
    "            anchor_idx, pos_idx = np.random.choice(\n",
    "                self.label_to_indices[anchor_label], 2, replace=False)\n",
    "            \n",
    "            # Select an image for negative\n",
    "            neg_idx = np.random.choice(self.label_to_indices[negative_label])\n",
    "            \n",
    "            triplets.append((anchor_idx, pos_idx, neg_idx))\n",
    "            \n",
    "        return triplets\n",
    "    \n",
    "    def __len__(self):\n",
    "        return len(self.triplets)\n",
    "    \n",
    "    def __getitem__(self, index):\n",
    "        \"\"\"Get a triplet of images\"\"\"\n",
    "        a_idx, p_idx, n_idx = self.triplets[index]\n",
    "        \n",
    "        anchor_img, _ = self.base_dataset[a_idx]\n",
    "        positive_img, _ = self.base_dataset[p_idx]\n",
    "        negative_img, _ = self.base_dataset[n_idx]\n",
    "        \n",
    "        return anchor_img, positive_img, negative_img"
   ]
  },
  {
   "cell_type": "markdown",
   "metadata": {},
   "source": [
    "11. Define Triplet Loss Model"
   ]
  },
  {
   "cell_type": "code",
   "execution_count": 12,
   "metadata": {
    "execution": {
     "iopub.execute_input": "2025-05-24T11:28:17.723801Z",
     "iopub.status.busy": "2025-05-24T11:28:17.723548Z",
     "iopub.status.idle": "2025-05-24T11:28:17.755377Z",
     "shell.execute_reply": "2025-05-24T11:28:17.754911Z",
     "shell.execute_reply.started": "2025-05-24T11:28:17.723758Z"
    },
    "trusted": true
   },
   "outputs": [],
   "source": [
    "class TripletLoss(nn.Module):\n",
    "    \"\"\"\n",
    "    Triplet loss with margin\n",
    "    \"\"\"\n",
    "    def __init__(self, margin=1.0):\n",
    "        super(TripletLoss, self).__init__()\n",
    "        self.margin = margin\n",
    "        \n",
    "    def forward(self, anchor, positive, negative):\n",
    "        \"\"\"\n",
    "        Calculate triplet loss\n",
    "        \"\"\"\n",
    "        # Calculate distances\n",
    "        pos_dist = F.pairwise_distance(anchor, positive)\n",
    "        neg_dist = F.pairwise_distance(anchor, negative)\n",
    "        \n",
    "        # Calculate loss with margin\n",
    "        loss = torch.clamp(pos_dist - neg_dist + self.margin, min=0.0)\n",
    "        \n",
    "        # Return mean loss\n",
    "        return loss.mean()\n",
    "\n",
    "class FaceTripletModel(nn.Module):\n",
    "    \"\"\"\n",
    "    Model for triplet learning\n",
    "    \"\"\"\n",
    "    def __init__(self, in_channels, embedding_dim=128):\n",
    "        super(FaceTripletModel, self).__init__()\n",
    "        \n",
    "        # Feature extraction layers (same as classification model)\n",
    "        self.features = nn.Sequential(\n",
    "            # First conv block\n",
    "            nn.Conv2d(in_channels, 64, kernel_size=3, padding=1),\n",
    "            nn.BatchNorm2d(64),\n",
    "            nn.ReLU(inplace=True),\n",
    "            nn.Conv2d(64, 64, kernel_size=3, padding=1),\n",
    "            nn.BatchNorm2d(64),\n",
    "            nn.ReLU(inplace=True),\n",
    "            nn.MaxPool2d(2, 2),\n",
    "            \n",
    "            # Second conv block\n",
    "            nn.Conv2d(64, 128, kernel_size=3, padding=1),\n",
    "            nn.BatchNorm2d(128),\n",
    "            nn.ReLU(inplace=True),\n",
    "            nn.Conv2d(128, 128, kernel_size=3, padding=1),\n",
    "            nn.BatchNorm2d(128),\n",
    "            nn.ReLU(inplace=True),\n",
    "            nn.MaxPool2d(2, 2),\n",
    "            \n",
    "            # Third conv block\n",
    "            nn.Conv2d(128, 256, kernel_size=3, padding=1),\n",
    "            nn.BatchNorm2d(256),\n",
    "            nn.ReLU(inplace=True),\n",
    "            nn.Conv2d(256, 256, kernel_size=3, padding=1),\n",
    "            nn.BatchNorm2d(256),\n",
    "            nn.ReLU(inplace=True),\n",
    "            nn.MaxPool2d(2, 2),\n",
    "        )\n",
    "        \n",
    "        # Calculate the size of flattened features\n",
    "        flat_features_size = 256 * 8 * 8\n",
    "        \n",
    "        # Embedding layer\n",
    "        self.embedding = nn.Sequential(\n",
    "            nn.Flatten(),\n",
    "            nn.Linear(flat_features_size, 512),\n",
    "            nn.BatchNorm1d(512),\n",
    "            nn.ReLU(inplace=True),\n",
    "            nn.Linear(512, embedding_dim),\n",
    "            nn.BatchNorm1d(embedding_dim)\n",
    "        )\n",
    "        \n",
    "    def forward(self, x):\n",
    "        x = self.features(x)\n",
    "        embedding = self.embedding(x)\n",
    "        \n",
    "        # Normalize embedding\n",
    "        normalized_embedding = F.normalize(embedding, p=2, dim=1)\n",
    "        return normalized_embedding"
   ]
  },
  {
   "cell_type": "markdown",
   "metadata": {},
   "source": [
    "12. Train Triplet Model"
   ]
  },
  {
   "cell_type": "code",
   "execution_count": 13,
   "metadata": {
    "execution": {
     "iopub.execute_input": "2025-05-24T11:28:17.756234Z",
     "iopub.status.busy": "2025-05-24T11:28:17.756003Z",
     "iopub.status.idle": "2025-05-24T11:28:17.780417Z",
     "shell.execute_reply": "2025-05-24T11:28:17.779950Z",
     "shell.execute_reply.started": "2025-05-24T11:28:17.756213Z"
    },
    "trusted": true
   },
   "outputs": [],
   "source": [
    "def train_triplet_model(model, epochs, margin=0.3, num_triplets=10000):\n",
    "    \"\"\"\n",
    "    Train the triplet model\n",
    "    \"\"\"\n",
    "    # Create triplet dataset and dataloader\n",
    "    triplet_dataset = TripletFaceDataset(train_dataset, num_triplets=num_triplets)\n",
    "    triplet_loader = DataLoader(triplet_dataset, batch_size=64, shuffle=True, num_workers=2)\n",
    "    \n",
    "    # Initialize loss and optimizer\n",
    "    criterion = TripletLoss(margin=margin)\n",
    "    optimizer = optim.Adam(model.parameters(), lr=0.0001, weight_decay=1e-5)\n",
    "    \n",
    "    # Training history\n",
    "    history = {\n",
    "        'loss': [],\n",
    "        'time_per_epoch': []\n",
    "    }\n",
    "    \n",
    "    print(f\"Training triplet model with {len(triplet_dataset)} triplets\")\n",
    "    \n",
    "    for epoch in range(epochs):\n",
    "        start_time = time.time()\n",
    "        \n",
    "        # Training phase\n",
    "        model.train()\n",
    "        epoch_loss = 0.0\n",
    "        \n",
    "        progress_bar = tqdm(triplet_loader, desc=f\"Epoch {epoch+1}/{epochs} [Triplet]\")\n",
    "        for anchor, positive, negative in progress_bar:\n",
    "            # Move data to device\n",
    "            anchor = anchor.to(device)\n",
    "            positive = positive.to(device)\n",
    "            negative = negative.to(device)\n",
    "            \n",
    "            # Zero gradients\n",
    "            optimizer.zero_grad()\n",
    "            \n",
    "            # Forward pass\n",
    "            anchor_emb = model(anchor)\n",
    "            positive_emb = model(positive)\n",
    "            negative_emb = model(negative)\n",
    "            \n",
    "            # Calculate loss\n",
    "            loss = criterion(anchor_emb, positive_emb, negative_emb)\n",
    "            epoch_loss += loss.item() * anchor.size(0)\n",
    "            \n",
    "            # Backward pass\n",
    "            loss.backward()\n",
    "            optimizer.step()\n",
    "            \n",
    "            # Update progress bar\n",
    "            progress_bar.set_postfix({'loss': f\"{loss.item():.4f}\"})\n",
    "        \n",
    "        # Calculate epoch metrics\n",
    "        avg_loss = epoch_loss / len(triplet_loader.dataset)\n",
    "        epoch_time = time.time() - start_time\n",
    "        \n",
    "        # Save metrics\n",
    "        history['loss'].append(avg_loss)\n",
    "        history['time_per_epoch'].append(epoch_time)\n",
    "        \n",
    "        # Print summary\n",
    "        print(f\"Epoch {epoch+1}/{epochs} - \"\n",
    "              f\"Loss: {avg_loss:.4f}, \"\n",
    "              f\"Time: {epoch_time:.2f}s\")\n",
    "    return history"
   ]
  },
  {
   "cell_type": "code",
   "execution_count": 14,
   "metadata": {
    "execution": {
     "iopub.execute_input": "2025-05-24T11:28:17.781161Z",
     "iopub.status.busy": "2025-05-24T11:28:17.781006Z",
     "iopub.status.idle": "2025-05-24T11:44:18.608949Z",
     "shell.execute_reply": "2025-05-24T11:44:18.608215Z",
     "shell.execute_reply.started": "2025-05-24T11:28:17.781148Z"
    },
    "trusted": true
   },
   "outputs": [
    {
     "name": "stdout",
     "output_type": "stream",
     "text": [
      "Triplet model has 9,603,264 trainable parameters\n",
      "Training triplet model with 15000 triplets\n"
     ]
    },
    {
     "data": {
      "application/vnd.jupyter.widget-view+json": {
       "model_id": "632e1f9743cd4fac950f29d0830b6d24",
       "version_major": 2,
       "version_minor": 0
      },
      "text/plain": [
       "Epoch 1/20 [Triplet]:   0%|          | 0/235 [00:00<?, ?it/s]"
      ]
     },
     "metadata": {},
     "output_type": "display_data"
    },
    {
     "name": "stdout",
     "output_type": "stream",
     "text": [
      "Epoch 1/20 - Loss: 0.1862, Time: 45.24s\n"
     ]
    },
    {
     "data": {
      "application/vnd.jupyter.widget-view+json": {
       "model_id": "3766e20203b5404ab21eb30c9ef13228",
       "version_major": 2,
       "version_minor": 0
      },
      "text/plain": [
       "Epoch 2/20 [Triplet]:   0%|          | 0/235 [00:00<?, ?it/s]"
      ]
     },
     "metadata": {},
     "output_type": "display_data"
    },
    {
     "name": "stdout",
     "output_type": "stream",
     "text": [
      "Epoch 2/20 - Loss: 0.1141, Time: 43.61s\n"
     ]
    },
    {
     "data": {
      "application/vnd.jupyter.widget-view+json": {
       "model_id": "e58a46a33a804a618aa9295425a488c5",
       "version_major": 2,
       "version_minor": 0
      },
      "text/plain": [
       "Epoch 3/20 [Triplet]:   0%|          | 0/235 [00:00<?, ?it/s]"
      ]
     },
     "metadata": {},
     "output_type": "display_data"
    },
    {
     "name": "stdout",
     "output_type": "stream",
     "text": [
      "Epoch 3/20 - Loss: 0.0617, Time: 44.51s\n"
     ]
    },
    {
     "data": {
      "application/vnd.jupyter.widget-view+json": {
       "model_id": "9b4c7c2d8c704fb5984eafea1484f939",
       "version_major": 2,
       "version_minor": 0
      },
      "text/plain": [
       "Epoch 4/20 [Triplet]:   0%|          | 0/235 [00:00<?, ?it/s]"
      ]
     },
     "metadata": {},
     "output_type": "display_data"
    },
    {
     "name": "stdout",
     "output_type": "stream",
     "text": [
      "Epoch 4/20 - Loss: 0.0318, Time: 44.88s\n"
     ]
    },
    {
     "data": {
      "application/vnd.jupyter.widget-view+json": {
       "model_id": "14a5744d20814721b65c0ef349d1c116",
       "version_major": 2,
       "version_minor": 0
      },
      "text/plain": [
       "Epoch 5/20 [Triplet]:   0%|          | 0/235 [00:00<?, ?it/s]"
      ]
     },
     "metadata": {},
     "output_type": "display_data"
    },
    {
     "name": "stdout",
     "output_type": "stream",
     "text": [
      "Epoch 5/20 - Loss: 0.0175, Time: 44.43s\n"
     ]
    },
    {
     "data": {
      "application/vnd.jupyter.widget-view+json": {
       "model_id": "1f1906e7be7743fba94b5b31085350f1",
       "version_major": 2,
       "version_minor": 0
      },
      "text/plain": [
       "Epoch 6/20 [Triplet]:   0%|          | 0/235 [00:00<?, ?it/s]"
      ]
     },
     "metadata": {},
     "output_type": "display_data"
    },
    {
     "name": "stdout",
     "output_type": "stream",
     "text": [
      "Epoch 6/20 - Loss: 0.0108, Time: 44.12s\n"
     ]
    },
    {
     "data": {
      "application/vnd.jupyter.widget-view+json": {
       "model_id": "cf72f5c9511247a3a62ee3c9a105dcf7",
       "version_major": 2,
       "version_minor": 0
      },
      "text/plain": [
       "Epoch 7/20 [Triplet]:   0%|          | 0/235 [00:00<?, ?it/s]"
      ]
     },
     "metadata": {},
     "output_type": "display_data"
    },
    {
     "name": "stdout",
     "output_type": "stream",
     "text": [
      "Epoch 7/20 - Loss: 0.0075, Time: 44.93s\n"
     ]
    },
    {
     "data": {
      "application/vnd.jupyter.widget-view+json": {
       "model_id": "a8708b03729e425c9d16e746a6fdb91f",
       "version_major": 2,
       "version_minor": 0
      },
      "text/plain": [
       "Epoch 8/20 [Triplet]:   0%|          | 0/235 [00:00<?, ?it/s]"
      ]
     },
     "metadata": {},
     "output_type": "display_data"
    },
    {
     "name": "stdout",
     "output_type": "stream",
     "text": [
      "Epoch 8/20 - Loss: 0.0068, Time: 43.62s\n"
     ]
    },
    {
     "data": {
      "application/vnd.jupyter.widget-view+json": {
       "model_id": "90fcf86d721c4645a6744eeff860f3de",
       "version_major": 2,
       "version_minor": 0
      },
      "text/plain": [
       "Epoch 9/20 [Triplet]:   0%|          | 0/235 [00:00<?, ?it/s]"
      ]
     },
     "metadata": {},
     "output_type": "display_data"
    },
    {
     "name": "stdout",
     "output_type": "stream",
     "text": [
      "Epoch 9/20 - Loss: 0.0061, Time: 44.17s\n"
     ]
    },
    {
     "data": {
      "application/vnd.jupyter.widget-view+json": {
       "model_id": "9005006415424a1f95125785894c9bde",
       "version_major": 2,
       "version_minor": 0
      },
      "text/plain": [
       "Epoch 10/20 [Triplet]:   0%|          | 0/235 [00:00<?, ?it/s]"
      ]
     },
     "metadata": {},
     "output_type": "display_data"
    },
    {
     "name": "stdout",
     "output_type": "stream",
     "text": [
      "Epoch 10/20 - Loss: 0.0055, Time: 42.66s\n"
     ]
    },
    {
     "data": {
      "application/vnd.jupyter.widget-view+json": {
       "model_id": "9a3b99e40c0748dbabd5ca9d4688ac91",
       "version_major": 2,
       "version_minor": 0
      },
      "text/plain": [
       "Epoch 11/20 [Triplet]:   0%|          | 0/235 [00:00<?, ?it/s]"
      ]
     },
     "metadata": {},
     "output_type": "display_data"
    },
    {
     "name": "stdout",
     "output_type": "stream",
     "text": [
      "Epoch 11/20 - Loss: 0.0052, Time: 45.33s\n"
     ]
    },
    {
     "data": {
      "application/vnd.jupyter.widget-view+json": {
       "model_id": "3e94172b1e974a1f830bdf2fe0a6acd4",
       "version_major": 2,
       "version_minor": 0
      },
      "text/plain": [
       "Epoch 12/20 [Triplet]:   0%|          | 0/235 [00:00<?, ?it/s]"
      ]
     },
     "metadata": {},
     "output_type": "display_data"
    },
    {
     "name": "stdout",
     "output_type": "stream",
     "text": [
      "Epoch 12/20 - Loss: 0.0055, Time: 45.40s\n"
     ]
    },
    {
     "data": {
      "application/vnd.jupyter.widget-view+json": {
       "model_id": "d96a2be8afc945ec979664014b3ffbf4",
       "version_major": 2,
       "version_minor": 0
      },
      "text/plain": [
       "Epoch 13/20 [Triplet]:   0%|          | 0/235 [00:00<?, ?it/s]"
      ]
     },
     "metadata": {},
     "output_type": "display_data"
    },
    {
     "name": "stdout",
     "output_type": "stream",
     "text": [
      "Epoch 13/20 - Loss: 0.0053, Time: 42.65s\n"
     ]
    },
    {
     "data": {
      "application/vnd.jupyter.widget-view+json": {
       "model_id": "ad42205aabae453aa6e9c0913dfad35b",
       "version_major": 2,
       "version_minor": 0
      },
      "text/plain": [
       "Epoch 14/20 [Triplet]:   0%|          | 0/235 [00:00<?, ?it/s]"
      ]
     },
     "metadata": {},
     "output_type": "display_data"
    },
    {
     "name": "stdout",
     "output_type": "stream",
     "text": [
      "Epoch 14/20 - Loss: 0.0048, Time: 41.85s\n"
     ]
    },
    {
     "data": {
      "application/vnd.jupyter.widget-view+json": {
       "model_id": "0c6a213cce1e41e6980bcffdc40a1120",
       "version_major": 2,
       "version_minor": 0
      },
      "text/plain": [
       "Epoch 15/20 [Triplet]:   0%|          | 0/235 [00:00<?, ?it/s]"
      ]
     },
     "metadata": {},
     "output_type": "display_data"
    },
    {
     "name": "stdout",
     "output_type": "stream",
     "text": [
      "Epoch 15/20 - Loss: 0.0045, Time: 43.51s\n"
     ]
    },
    {
     "data": {
      "application/vnd.jupyter.widget-view+json": {
       "model_id": "bee78b44605e4ad38fa401f94aa7fe88",
       "version_major": 2,
       "version_minor": 0
      },
      "text/plain": [
       "Epoch 16/20 [Triplet]:   0%|          | 0/235 [00:00<?, ?it/s]"
      ]
     },
     "metadata": {},
     "output_type": "display_data"
    },
    {
     "name": "stdout",
     "output_type": "stream",
     "text": [
      "Epoch 16/20 - Loss: 0.0043, Time: 43.62s\n"
     ]
    },
    {
     "data": {
      "application/vnd.jupyter.widget-view+json": {
       "model_id": "0222c206fcdd4293ac6a03409da277e2",
       "version_major": 2,
       "version_minor": 0
      },
      "text/plain": [
       "Epoch 17/20 [Triplet]:   0%|          | 0/235 [00:00<?, ?it/s]"
      ]
     },
     "metadata": {},
     "output_type": "display_data"
    },
    {
     "name": "stdout",
     "output_type": "stream",
     "text": [
      "Epoch 17/20 - Loss: 0.0041, Time: 42.60s\n"
     ]
    },
    {
     "data": {
      "application/vnd.jupyter.widget-view+json": {
       "model_id": "a9db2351d64848dcba4b442853264723",
       "version_major": 2,
       "version_minor": 0
      },
      "text/plain": [
       "Epoch 18/20 [Triplet]:   0%|          | 0/235 [00:00<?, ?it/s]"
      ]
     },
     "metadata": {},
     "output_type": "display_data"
    },
    {
     "name": "stdout",
     "output_type": "stream",
     "text": [
      "Epoch 18/20 - Loss: 0.0042, Time: 42.38s\n"
     ]
    },
    {
     "data": {
      "application/vnd.jupyter.widget-view+json": {
       "model_id": "a0330f2090534f97b5dad1bd3c1e9ec1",
       "version_major": 2,
       "version_minor": 0
      },
      "text/plain": [
       "Epoch 19/20 [Triplet]:   0%|          | 0/235 [00:00<?, ?it/s]"
      ]
     },
     "metadata": {},
     "output_type": "display_data"
    },
    {
     "name": "stdout",
     "output_type": "stream",
     "text": [
      "Epoch 19/20 - Loss: 0.0045, Time: 41.95s\n"
     ]
    },
    {
     "data": {
      "application/vnd.jupyter.widget-view+json": {
       "model_id": "0a0a6c3e122c49c59cd918fcb8ee9347",
       "version_major": 2,
       "version_minor": 0
      },
      "text/plain": [
       "Epoch 20/20 [Triplet]:   0%|          | 0/235 [00:00<?, ?it/s]"
      ]
     },
     "metadata": {},
     "output_type": "display_data"
    },
    {
     "name": "stdout",
     "output_type": "stream",
     "text": [
      "Epoch 20/20 - Loss: 0.0041, Time: 42.94s\n"
     ]
    }
   ],
   "source": [
    "# Initialize triplet model\n",
    "triplet_model = FaceTripletModel(\n",
    "    in_channels=IN_CHANNELS,\n",
    "    embedding_dim=params['embedding_dim']\n",
    ").to(device)\n",
    "\n",
    "print(f\"Triplet model has {count_parameters(triplet_model):,} trainable parameters\")\n",
    "\n",
    "# Train the model\n",
    "triplet_history = train_triplet_model(\n",
    "    triplet_model, \n",
    "    epochs=params['epochs'],\n",
    "    margin=params['triplet_margin'],\n",
    "    num_triplets=15000\n",
    ")\n",
    "\n",
    "# Save the trained model\n",
    "torch.save(triplet_model.state_dict(), 'triplet_results/triplet_model.pth')"
   ]
  },
  {
   "cell_type": "markdown",
   "metadata": {},
   "source": [
    "13. Plot Triplet Training Results"
   ]
  },
  {
   "cell_type": "code",
   "execution_count": 15,
   "metadata": {
    "execution": {
     "iopub.execute_input": "2025-05-24T11:44:18.610182Z",
     "iopub.status.busy": "2025-05-24T11:44:18.609894Z",
     "iopub.status.idle": "2025-05-24T11:44:18.866761Z",
     "shell.execute_reply": "2025-05-24T11:44:18.866067Z",
     "shell.execute_reply.started": "2025-05-24T11:44:18.610148Z"
    },
    "trusted": true
   },
   "outputs": [
    {
     "data": {
      "image/png": "[encoded data removed]",
      "text/plain": [
       "<Figure size 1000x500 with 1 Axes>"
      ]
     },
     "metadata": {},
     "output_type": "display_data"
    }
   ],
   "source": [
    "def plot_triplet_results(history):\n",
    "    \"\"\"\n",
    "    Plot triplet training loss\n",
    "    \"\"\"\n",
    "    epochs = range(1, len(history['loss']) + 1)\n",
    "    \n",
    "    # Plot loss\n",
    "    plt.figure(figsize=(10, 5))\n",
    "    plt.plot(epochs, history['loss'], 'b-', marker='o')\n",
    "    plt.title('Triplet Loss During Training')\n",
    "    plt.xlabel('Epochs')\n",
    "    plt.ylabel('Loss')\n",
    "    plt.grid(True)\n",
    "    plt.show()\n",
    "\n",
    "# Plot the results\n",
    "plot_triplet_results(triplet_history)"
   ]
  },
  {
   "cell_type": "markdown",
   "metadata": {},
   "source": [
    "14. Load Test Dataset and Verification Dataset"
   ]
  },
  {
   "cell_type": "code",
   "execution_count": 16,
   "metadata": {
    "execution": {
     "iopub.execute_input": "2025-05-24T11:44:18.867999Z",
     "iopub.status.busy": "2025-05-24T11:44:18.867541Z",
     "iopub.status.idle": "2025-05-24T11:44:18.874953Z",
     "shell.execute_reply": "2025-05-24T11:44:18.874428Z",
     "shell.execute_reply.started": "2025-05-24T11:44:18.867981Z"
    },
    "trusted": true
   },
   "outputs": [],
   "source": [
    "class VerificationDataset(Dataset):\n",
    "    \"\"\"\n",
    "    Dataset for loading face verification pairs\n",
    "    \"\"\"\n",
    "    def __init__(self, pairs_file, transform=None, base_dir='/kaggle/input/11-785-fall-20-homework-2-part-2'):\n",
    "        self.pairs_file = pairs_file\n",
    "        self.transform = transform\n",
    "        self.base_dir = base_dir  # Base directory to prepend to relative paths\n",
    "        self.pairs = []\n",
    "        self.labels = []\n",
    "        \n",
    "        try:\n",
    "            # Load verification pairs\n",
    "            with open(pairs_file, 'r') as f:\n",
    "                for line in f:\n",
    "                    parts = line.strip().split()\n",
    "                    if len(parts) == 3:\n",
    "                        img1_path, img2_path, label = parts\n",
    "                        # Create full paths by joining with the base directory\n",
    "                        img1_full_path = os.path.join(self.base_dir, img1_path)\n",
    "                        img2_full_path = os.path.join(self.base_dir, img2_path)\n",
    "                        self.pairs.append((img1_full_path, img2_full_path))\n",
    "                        self.labels.append(int(label))\n",
    "            \n",
    "            print(f\"Loaded {len(self.pairs)} verification pairs from {pairs_file}\")\n",
    "        except FileNotFoundError:\n",
    "            print(f\"Warning: Verification file {pairs_file} not found.\")\n",
    "    \n",
    "    def __len__(self):\n",
    "        return len(self.pairs)\n",
    "    \n",
    "    def __getitem__(self, index):\n",
    "        img1_path, img2_path = self.pairs[index]\n",
    "        label = self.labels[index]\n",
    "        \n",
    "        # Load images\n",
    "        try:\n",
    "            img1 = Image.open(img1_path).convert('RGB')\n",
    "            img2 = Image.open(img2_path).convert('RGB')\n",
    "        except FileNotFoundError as e:\n",
    "            print(f\"Error loading image: {e}\")\n",
    "            # Return a placeholder or raise the error\n",
    "            raise\n",
    "        \n",
    "        # Apply transformations\n",
    "        if self.transform:\n",
    "            img1 = self.transform(img1)\n",
    "            img2 = self.transform(img2)\n",
    "        \n",
    "        return img1, img2, label"
   ]
  },
  {
   "cell_type": "code",
   "execution_count": 17,
   "metadata": {
    "execution": {
     "iopub.execute_input": "2025-05-24T11:44:18.876060Z",
     "iopub.status.busy": "2025-05-24T11:44:18.875771Z",
     "iopub.status.idle": "2025-05-24T11:44:18.942571Z",
     "shell.execute_reply": "2025-05-24T11:44:18.942067Z",
     "shell.execute_reply.started": "2025-05-24T11:44:18.876037Z"
    },
    "trusted": true
   },
   "outputs": [
    {
     "name": "stdout",
     "output_type": "stream",
     "text": [
      "Loaded 8805 verification pairs from /kaggle/input/11-785-fall-20-homework-2-part-2/verification_pairs_val.txt\n",
      "Verification dataset loaded with 8805 pairs\n"
     ]
    }
   ],
   "source": [
    "verification_file = os.path.join('/kaggle/input/11-785-fall-20-homework-2-part-2', 'verification_pairs_val.txt')\n",
    "verification_dataset = VerificationDataset(\n",
    "    verification_file, \n",
    "    transform=transform,\n",
    "    base_dir='/kaggle/input/11-785-fall-20-homework-2-part-2'\n",
    ")\n",
    "print(f\"Verification dataset loaded with {len(verification_dataset)} pairs\")"
   ]
  },
  {
   "cell_type": "markdown",
   "metadata": {},
   "source": [
    "15. Evaluate Models on Test Data"
   ]
  },
  {
   "cell_type": "code",
   "execution_count": 18,
   "metadata": {
    "execution": {
     "iopub.execute_input": "2025-05-24T11:44:18.943334Z",
     "iopub.status.busy": "2025-05-24T11:44:18.943157Z",
     "iopub.status.idle": "2025-05-24T11:44:18.956507Z",
     "shell.execute_reply": "2025-05-24T11:44:18.955833Z",
     "shell.execute_reply.started": "2025-05-24T11:44:18.943319Z"
    },
    "trusted": true
   },
   "outputs": [],
   "source": [
    "def evaluate_classifier_on_test(model, test_loader):\n",
    "    \"\"\"Evaluate classification model on test data\"\"\"\n",
    "    model.eval()\n",
    "    test_loss = 0.0\n",
    "    test_correct = 0\n",
    "    \n",
    "    criterion = nn.CrossEntropyLoss()\n",
    "    all_preds = []\n",
    "    all_labels = []\n",
    "    \n",
    "    with torch.no_grad():\n",
    "        progress_bar = tqdm(test_loader, desc=\"Evaluating classification model on test data\")\n",
    "        for inputs, labels in progress_bar:\n",
    "            inputs, labels = inputs.to(device), labels.to(device)\n",
    "            \n",
    "            # Forward pass\n",
    "            logits, _ = model(inputs)\n",
    "            loss = criterion(logits, labels)\n",
    "            \n",
    "            # Statistics\n",
    "            test_loss += loss.item() * inputs.size(0)\n",
    "            _, preds = torch.max(logits, 1)\n",
    "            test_correct += torch.sum(preds == labels).item()\n",
    "            \n",
    "            # Store for confusion matrix\n",
    "            all_preds.extend(preds.cpu().numpy())\n",
    "            all_labels.extend(labels.cpu().numpy())\n",
    "    \n",
    "    # Calculate metrics\n",
    "    test_loss = test_loss / len(test_loader.dataset)\n",
    "    test_acc = test_correct / len(test_loader.dataset)\n",
    "    \n",
    "    print(f\"Test Loss: {test_loss:.4f}, Test Accuracy: {test_acc:.4f}\")\n",
    "    \n",
    "    # Plot confusion matrix (optional)\n",
    "    if len(np.unique(all_labels)) <= 20:  # Only if we have a manageable number of classes\n",
    "        from sklearn.metrics import confusion_matrix\n",
    "        import seaborn as sns\n",
    "        \n",
    "        cm = confusion_matrix(all_labels, all_preds)\n",
    "        plt.figure(figsize=(10, 8))\n",
    "        sns.heatmap(cm, annot=True, fmt='d', cmap='Blues')\n",
    "        plt.xlabel('Predicted')\n",
    "        plt.ylabel('True')\n",
    "        plt.title('Confusion Matrix')\n",
    "        plt.savefig(os.path.join(output_dir, 'test_confusion_matrix.png'))\n",
    "        plt.show()\n",
    "    \n",
    "    return {\n",
    "        'loss': test_loss,\n",
    "        'accuracy': test_acc,\n",
    "        'predictions': all_preds,\n",
    "        'true_labels': all_labels\n",
    "    }\n",
    "\n",
    "def evaluate_verification(model, verification_dataset, name=\"model\"):\n",
    "    \"\"\"\n",
    "    Evaluate a model on verification pairs\n",
    "    \"\"\"\n",
    "    model.eval()\n",
    "    cosine_similarities = []\n",
    "    euclidean_distances = []\n",
    "    labels = []\n",
    "    \n",
    "    with torch.no_grad():\n",
    "        for img1, img2, label in tqdm(verification_dataset, desc=f\"Evaluating {name} on verification pairs\"):\n",
    "            img1 = img1.unsqueeze(0).to(device)\n",
    "            img2 = img2.unsqueeze(0).to(device)\n",
    "            \n",
    "            # Get embeddings\n",
    "            if isinstance(model, FaceClassificationModel):\n",
    "                _, emb1 = model(img1)\n",
    "                _, emb2 = model(img2)\n",
    "            else:  # Triplet model\n",
    "                emb1 = model(img1)\n",
    "                emb2 = model(img2)\n",
    "            \n",
    "            # Calculate cosine similarity\n",
    "            cos_sim = F.cosine_similarity(emb1, emb2).item()\n",
    "            cosine_similarities.append(cos_sim)\n",
    "            \n",
    "            # Calculate Euclidean distance (negative so higher is better)\n",
    "            euc_dist = -torch.pairwise_distance(emb1, emb2).item()\n",
    "            euclidean_distances.append(euc_dist)\n",
    "            \n",
    "            labels.append(label)\n",
    "    \n",
    "    # Calculate ROC and AUC for cosine similarity\n",
    "    fpr_cos, tpr_cos, thresholds_cos = roc_curve(labels, cosine_similarities)\n",
    "    auc_cos = auc(fpr_cos, tpr_cos)\n",
    "    \n",
    "    # Calculate ROC and AUC for Euclidean distance\n",
    "    fpr_euc, tpr_euc, thresholds_euc = roc_curve(labels, euclidean_distances)\n",
    "    auc_euc = auc(fpr_euc, tpr_euc)\n",
    "    \n",
    "    # Find best threshold and accuracy for cosine similarity\n",
    "    best_acc_cos = 0\n",
    "    best_threshold_cos = 0\n",
    "    \n",
    "    for threshold in thresholds_cos:\n",
    "        predictions = [1 if s >= threshold else 0 for s in cosine_similarities]\n",
    "        accuracy = np.mean([1 if p == l else 0 for p, l in zip(predictions, labels)])\n",
    "        if accuracy > best_acc_cos:\n",
    "            best_acc_cos = accuracy\n",
    "            best_threshold_cos = threshold\n",
    "    \n",
    "    # Plot ROC curves\n",
    "    plt.figure(figsize=(10, 8))\n",
    "    plt.plot(fpr_cos, tpr_cos, label=f'Cosine Similarity (AUC = {auc_cos:.4f})')\n",
    "    plt.plot(fpr_euc, tpr_euc, label=f'Euclidean Distance (AUC = {auc_euc:.4f})')\n",
    "    plt.plot([0, 1], [0, 1], 'k--')\n",
    "    plt.xlabel('False Positive Rate')\n",
    "    plt.ylabel('True Positive Rate')\n",
    "    plt.title(f'{name.capitalize()} Model - Verification ROC')\n",
    "    plt.legend()\n",
    "    plt.grid(True)\n",
    "    plt.show()\n",
    "    \n",
    "    print(f\"{name.capitalize()} Model Results:\")\n",
    "    print(f\"Cosine Similarity AUC: {auc_cos:.4f}\")\n",
    "    print(f\"Euclidean Distance AUC: {auc_euc:.4f}\")\n",
    "    print(f\"Best Accuracy: {best_acc_cos:.4f} (threshold: {best_threshold_cos:.4f})\")\n",
    "    \n",
    "    return {\n",
    "        'cosine_auc': auc_cos,\n",
    "        'euclidean_auc': auc_euc,\n",
    "        'best_accuracy': best_acc_cos,\n",
    "        'best_threshold': best_threshold_cos\n",
    "    }"
   ]
  },
  {
   "cell_type": "markdown",
   "metadata": {},
   "source": [
    "16. Evaluate Models and Compare Results"
   ]
  },
  {
   "cell_type": "code",
   "execution_count": null,
   "metadata": {
    "execution": {
     "iopub.execute_input": "2025-05-24T11:44:18.957305Z",
     "iopub.status.busy": "2025-05-24T11:44:18.957146Z",
     "iopub.status.idle": "2025-05-24T11:47:25.073264Z",
     "shell.execute_reply": "2025-05-24T11:47:25.072419Z",
     "shell.execute_reply.started": "2025-05-24T11:44:18.957291Z"
    },
    "trusted": true
   },
   "outputs": [
    {
     "name": "stdout",
     "output_type": "stream",
     "text": [
      "\n",
      "1. Testing Classification Model on Test Data\n"
     ]
    },
    {
     "data": {
      "application/vnd.jupyter.widget-view+json": {
       "model_id": "1e7ebef427cd46c69272a402d8d69a1f",
       "version_major": 2,
       "version_minor": 0
      },
      "text/plain": [
       "Evaluating classification model on test data:   0%|          | 0/8 [00:00<?, ?it/s]"
      ]
     },
     "metadata": {},
     "output_type": "display_data"
    },
    {
     "name": "stdout",
     "output_type": "stream",
     "text": [
      "Test Loss: 2.0544, Test Accuracy: 0.5570\n",
      "\n",
      "2. Testing Models on Verification Pairs\n",
      "\n",
      "Evaluating Classification Model on Verification:\n"
     ]
    },
    {
     "data": {
      "application/vnd.jupyter.widget-view+json": {
       "model_id": "c9dcc6ee0be944dd8879bd85e16cf4f3",
       "version_major": 2,
       "version_minor": 0
      },
      "text/plain": [
       "Evaluating classification on verification pairs:   0%|          | 0/8805 [00:00<?, ?it/s]"
      ]
     },
     "metadata": {},
     "output_type": "display_data"
    },
    {
     "data": {
      "image/png": "[encoded data removed]",
      "text/plain": [
       "<Figure size 1000x800 with 1 Axes>"
      ]
     },
     "metadata": {},
     "output_type": "display_data"
    },
    {
     "name": "stdout",
     "output_type": "stream",
     "text": [
      "Classification Model Results:\n",
      "Cosine Similarity AUC: 0.7539\n",
      "Euclidean Distance AUC: 0.7539\n",
      "Best Accuracy: 0.6927 (threshold: 0.0926)\n",
      "\n",
      "Evaluating Triplet Model on Verification:\n"
     ]
    },
    {
     "data": {
      "application/vnd.jupyter.widget-view+json": {
       "model_id": "17704fe9cd7f41d3b7b1bf7833531c4d",
       "version_major": 2,
       "version_minor": 0
      },
      "text/plain": [
       "Evaluating triplet on verification pairs:   0%|          | 0/8805 [00:00<?, ?it/s]"
      ]
     },
     "metadata": {},
     "output_type": "display_data"
    },
    {
     "data": {
      "image/png": "[encoded data removed]",
      "text/plain": [
       "<Figure size 1000x800 with 1 Axes>"
      ]
     },
     "metadata": {},
     "output_type": "display_data"
    },
    {
     "name": "stdout",
     "output_type": "stream",
     "text": [
      "Triplet Model Results:\n",
      "Cosine Similarity AUC: 0.7510\n",
      "Euclidean Distance AUC: 0.7510\n",
      "Best Accuracy: 0.6912 (threshold: 0.1587)\n",
      "\n",
      "=== Verification Performance Comparison ===\n",
      "Classification Model - Cosine AUC: 0.7539, Euclidean AUC: 0.7539, Best Accuracy: 0.6927\n",
      "Triplet Model - Cosine AUC: 0.7510, Euclidean AUC: 0.7510, Best Accuracy: 0.6912\n",
      "\n",
      "=== Final Conclusion ===\n",
      "The Classification model performed better for verification using cosine similarity.\n",
      "The Classification model performed better for verification using Euclidean distance.\n",
      "\n",
      "=== Generalization Analysis ===\n",
      "Train-Val Accuracy Gap: 0.4560\n",
      "Val-Test Accuracy Gap: -0.0130\n",
      "The classification model shows signs of overfitting between training and validation.\n"
     ]
    }
   ],
   "source": [
    "# 1. Evaluate Classification Model on Test Data\n",
    "print(\"\\n1. Testing Classification Model on Test Data\")\n",
    "classification_test_results = evaluate_classifier_on_test(classification_model, test_loader)\n",
    "\n",
    "# 2. Evaluate both models on Verification Pairs\n",
    "print(\"\\n2. Testing Models on Verification Pairs\")\n",
    "\n",
    "# Evaluate classification model on verification dataset\n",
    "print(\"\\nEvaluating Classification Model on Verification:\")\n",
    "classification_verification_results = evaluate_verification(\n",
    "    classification_model, \n",
    "    verification_dataset, \n",
    "    name=\"classification\"\n",
    ")\n",
    "\n",
    "# Evaluate triplet model on verification dataset\n",
    "print(\"\\nEvaluating Triplet Model on Verification:\")\n",
    "triplet_verification_results = evaluate_verification(\n",
    "    triplet_model, \n",
    "    verification_dataset, \n",
    "    name=\"triplet\"\n",
    ")\n",
    "\n",
    "# 3. Compare verification performance (simple text comparison)\n",
    "print(\"\\n=== Verification Performance Comparison ===\")\n",
    "print(f\"Classification Model - Cosine AUC: {classification_verification_results['cosine_auc']:.4f}, \"\n",
    "      f\"Euclidean AUC: {classification_verification_results['euclidean_auc']:.4f}, \"\n",
    "      f\"Best Accuracy: {classification_verification_results['best_accuracy']:.4f}\")\n",
    "\n",
    "print(f\"Triplet Model - Cosine AUC: {triplet_verification_results['cosine_auc']:.4f}, \"\n",
    "      f\"Euclidean AUC: {triplet_verification_results['euclidean_auc']:.4f}, \"\n",
    "      f\"Best Accuracy: {triplet_verification_results['best_accuracy']:.4f}\")\n",
    "\n",
    "# 4. Determine best model\n",
    "print(\"\\n=== Final Conclusion ===\")\n",
    "if classification_verification_results['cosine_auc'] > triplet_verification_results['cosine_auc']:\n",
    "    print(\"The Classification model performed better for verification using cosine similarity.\")\n",
    "else:\n",
    "    print(\"The Triplet model performed better for verification using cosine similarity.\")\n",
    "    \n",
    "if classification_verification_results['euclidean_auc'] > triplet_verification_results['euclidean_auc']:\n",
    "    print(\"The Classification model performed better for verification using Euclidean distance.\")\n",
    "else:\n",
    "    print(\"The Triplet model performed better for verification using Euclidean distance.\")\n",
    "\n",
    "# 5. Generalization assessment for classification model\n",
    "train_val_gap = classification_history['train_acc'][-1] - classification_history['val_acc'][-1]\n",
    "val_test_gap = classification_history['val_acc'][-1] - classification_test_results['accuracy']\n",
    "\n",
    "print(\"\\n=== Generalization Analysis ===\")\n",
    "print(f\"Train-Val Accuracy Gap: {train_val_gap:.4f}\")\n",
    "print(f\"Val-Test Accuracy Gap: {val_test_gap:.4f}\")\n",
    "\n",
    "if train_val_gap > 0.05:\n",
    "    print(\"The classification model shows signs of overfitting between training and validation.\")\n",
    "if val_test_gap > 0.05:\n",
    "    print(\"The classification model shows signs of overfitting between validation and test.\")\n",
    "if train_val_gap <= 0.05 and val_test_gap <= 0.05:\n",
    "    print(\"The classification model generalizes well across datasets.\")"
   ]
  }
 ],
 "metadata": {
  "colab": {
   "name": "H2P2 - Facial recognition",
   "provenance": []
  },
  "kaggle": {
   "accelerator": "nvidiaTeslaT4",
   "dataSources": [
    {
     "databundleVersionId": 1552852,
     "sourceId": 22881,
     "sourceType": "competition"
    }
   ],
   "dockerImageVersionId": 31041,
   "isGpuEnabled": true,
   "isInternetEnabled": true,
   "language": "python",
   "sourceType": "notebook"
  },
  "kernelspec": {
   "display_name": "Python 3",
   "language": "python",
   "name": "python3"
  },
  "language_info": {
   "codemirror_mode": {
    "name": "ipython",
    "version": 3
   },
   "file_extension": ".py",
   "mimetype": "text/x-python",
   "name": "python",
   "nbconvert_exporter": "python",
   "pygments_lexer": "ipython3",
   "version": "3.11.11"
  }
 },
 "nbformat": 4,
 "nbformat_minor": 4
}
